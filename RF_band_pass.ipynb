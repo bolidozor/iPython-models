{
 "cells": [
  {
   "cell_type": "markdown",
   "metadata": {},
   "source": [
    "## Návrh RF filtru pro vstupní obvody přijímače rádiových signálů meteorů\n",
    "\n",
    "Rádiové signály odražené od stop meteorů jsou frekvenčně modulovány pouze Dopplerovým posuvem proto mají šířku pásma pouze někoklik desítek kHz. Původní vysílaný signál je CW vysílání na frekvenci 143.05 kHz z pohledu RF techniky proto jde o filtr s velmi malou relativní šířkou pásma. \n",
    "\n",
    "Jedním z hlavních cílů návrhu je, aby filtr byl poměrně jednoduše vyrobitelný i pro jiné frekvence základního signálu tj. jiný vysílač. Nelze proto zvolit například krystalový nebo dutinový rezonátor, protože kusová výroba takových filtrů pro různé potřebné frekvence by byla velmi nákladná. Konstruční řešení proto musí být realizovatelné ze standardní řady L a C součástek. \n",
    "\n",
    "##### Zadání v podobě tolerančního pásma filtru \t\n",
    "Značení parametrů stejné jako v programu Syntfil https://asinus.feld.cvut.cz/syntfil\n",
    "\n",
    "Pásmová propust, Chebyshev, 3. řád\n",
    "f-s = 142.551MHz, f-p = 143.025MHz, $f_p = 143.075MHz$, fs = 143.551MHz, fm = 143.05MHz, Δfp = 50kHz, Δfs = 1MHz, ap = 3dB, as = 60dB\n",
    "\n",
    "##### Kanonická LC realizace\n",
    "zakončení: symetrické, R = 50Ω, směr: zepředu, struktura: π\n",
    "\n",
    "Výsledkem návrhu filtru pomocí běžně používaných návrhových nástrojů je typicky následující struktura, která ale není realizovatelná z reálných součástek. \n",
    "\n",
    "\n",
    "![title](Filter_img/GRAVes_syntfil.png)\n",
    "\n",
    "Takto navržená struktura je kanonickou strukturou, která začíná být prakticky realizovatelná od situace kdy šířka pásma filtru je alespoň polovina pracovní frekvence. Ale i tak jsou potřebné hodnoty součástek těžko zkontruovatelné, protože nutné rozměry vytvářejí potíže s vlastní rezonancí. Existuje ještě několik analyticky správných, ale technicky těžko realizovatelných struktur jako eliptické filtry, Nortonovy transformované filtry atd.\n",
    "\n",
    "Pro náš případ pásmové propusti lze však využít požadavku na velmi malou šířku pásma, která umožňuje uvažovat o aproximacích platných pro danou frekvenci. Pro změnu impedance mezi jednotlivými bloky filtru tak lze například použít LC články místo trasformátorů z vázaných indukčostí. \n",
    "\n",
    "##### Přímo vázaná LC struktura\n",
    "\n",
    "Filtry tohoto typu se obecně skládají z přizpůsobovacích bloků a rezonátorů. Tato obvodová realizace filtru může využívat obrovské množství různých topologií rezonátorů a přizpůsobovacích obvodů, které lze vzájemně kombinovat. Na následujícím schématu je jedna ze základních struktur.\n",
    "\n",
    "![Direct coupled Filter](Filter_img/Direct_coupled_RFfilter.png)\n",
    "\n",
    "Návrh tohoto typu filtru probíhá iterativně v následujících krocích: \n",
    "\n",
    " - Fixní volba hodnoty součástek, jejiž kvalita limituje parametry filtru. (typicky indukčnosti. proto byly zvoleny hodnoty ze [standardní řady](http://www.tme.eu/cz/Document/2e8fe3373db00f79b69db1695f1f0867/cw.pdf) )\n",
    " - Ke zvoleným hodnotám indukčností napočítat hodnoty kapacit tak, aby rezonance LC obvodu odpovídala požadovanému pracovnímu kmitočtu.\n",
    " - Spočítat hodnoty vazebních členů mezi rezonátory\n",
    " - Spočítat hodnoty přizpůsobovacích členů na vstupu a výstupu filtru, aby jejich ipedance odpovídala $\\sqrt{Z_{in} Z_{out}}$\n",
    " - Schéma odsimulovat a opakovat postup, dokud není dosaženo minimálních ztrát. \n",
    " \n",
    "Tento postup využívá obecně známé výrazy pro impedanci a rezonanční kmitočet LC obvodu. \n",
    "\n",
    "\\begin{equation}\n",
    "Z_k = Q P_K  \\omega L = \\frac{Q P_k}{\\omega C} \n",
    "\\end{equation}\n",
    "\n",
    "\\begin{equation}\n",
    "\\omega = \\frac{1}{\\sqrt{LC}} \\\\ \n",
    "\\end{equation}\n",
    "\n",
    "\\begin{equation}\n",
    "Q = \\frac{F_c}{BW}\n",
    "\\end{equation}\n",
    "\n",
    "Kde $Z_k$ je charakteristická impedance rezonátoru. Pro vzájemnou vazbu rezonátorů použijeme kapacity, neboť indukčnosti zbytečně zvyšují cenu filtru a zavádějí riziko vzájemné vazby. \n",
    "\n",
    "##### Simulace struktury\n",
    "\n",
    "Pro návrh hodnot součástek struktuře byl vytvořen model využívající knihovnu [ahkab](https://github.com/ahkab/ahkab)\n"
   ]
  },
  {
   "cell_type": "code",
   "execution_count": null,
   "metadata": {
    "collapsed": true
   },
   "outputs": [],
   "source": []
  },
  {
   "cell_type": "code",
   "execution_count": 15,
   "metadata": {
    "collapsed": false
   },
   "outputs": [],
   "source": [
    "#  https://github.com/ahkab/ahkab\n",
    "from ahkab import new_ac, run\n",
    "from ahkab.circuit import Circuit\n",
    "from ahkab.plotting import plot_results # calls matplotlib for you\n",
    "import numpy as np\n",
    "\n",
    "# Define the circuit\n",
    "cir = Circuit('Butterworth 143.05 MHz band-pass filter')\n",
    "cir.add_vsource('V1', 'n1', cir.gnd, dc_value=0., ac_value=1.)\n",
    "cir.add_resistor('R1', 'n1', 'n2', 50.)\n",
    "cir.add_inductor('L1', 'n2', 'n3', 100e-09)\n",
    "cir.add_inductor('L2', 'n3', cir.gnd, 33e-09)\n",
    "cir.add_capacitor('C2', 'n3', cir.gnd, 43e-12)\n",
    "cir.add_capacitor('C3', 'n3', 'n4', 3.9e-12)\n",
    "cir.add_inductor('L3', 'n4', cir.gnd, 33e-09)\n",
    "cir.add_capacitor('C4', 'n4', cir.gnd, 30e-12)\n",
    "cir.add_capacitor('C5', 'n4', 'n5', 3.9e-12)\n",
    "cir.add_inductor('L4', 'n5', cir.gnd, 33e-09)\n",
    "cir.add_capacitor('C6', 'n5', cir.gnd, 43e-12)\n",
    "cir.add_inductor('L5', 'n5', 'n6', 100e-09)\n",
    "cir.add_resistor('R2', 'n6', cir.gnd, 50.)\n",
    "\n",
    "# Define the analysis\n",
    "ac1 = new_ac(120e6, 160e6, 1e2, x0=None)\n",
    "\n",
    "# run it\n",
    "res = run(cir, ac1)\n",
    "\n",
    "# plot the results\n",
    "plot_results('3 Pole Butterworth Direct BPF', [('|Vn6|',\"\")], res['ac'])"
   ]
  },
  {
   "cell_type": "code",
   "execution_count": 16,
   "metadata": {
    "collapsed": false
   },
   "outputs": [
    {
     "name": "stdout",
     "output_type": "stream",
     "text": [
      "* Butterworth 143.05 MHz band-pass filter\n",
      "V1 n1 0 type=vdc value=0.0 vac=1.0 \n",
      "R1 n1 n2 50\n",
      "L1 n2 n3 1e-07\n",
      "L2 n3 0 3.3e-08\n",
      "C2 n3 0 4.3e-11\n",
      "C3 n3 n4 3.9e-12\n",
      "L3 n4 0 3.3e-08\n",
      "C4 n4 0 3e-11\n",
      "C5 n4 n5 3.9e-12\n",
      "L4 n5 0 3.3e-08\n",
      "C6 n5 0 4.3e-11\n",
      "L5 n5 n6 1e-07\n",
      "R2 n6 0 50\n"
     ]
    }
   ],
   "source": [
    "print cir"
   ]
  },
  {
   "cell_type": "code",
   "execution_count": 17,
   "metadata": {
    "collapsed": false
   },
   "outputs": [],
   "source": [
    "from ahkab.plotting import show_plots\n",
    "show_plots()"
   ]
  },
  {
   "cell_type": "markdown",
   "metadata": {},
   "source": [
    "Frekvenční charakteristika navrženého pásmového filtru\n",
    "\n",
    "![Frekvenční odezva navrženého filtru](Filter_img/3pole_butterworth_DBPF.png)\n",
    "\n",
    "Pro konečnou realizaci bylo zapojení filtru ještě doplněno o DC by-pass, který umožňuje napájení nízkošumovéhe zesilovače umístěného u antény.\n",
    "\n",
    "![Předpokládaná výsledná realizace filtru](Filter_img/BP01B_schematics.png)\n"
   ]
  },
  {
   "cell_type": "markdown",
   "metadata": {},
   "source": [
    "#### Reference \n",
    "\n",
    "    http://www.iowahills.com/9RFFiltersPage.html\n",
    "    http://www.iowahills.com/RF%20Filters/The%20Design%20of%20Direct%20Coupled%20Band%20Pass%20Filters.pdf\n"
   ]
  },
  {
   "cell_type": "code",
   "execution_count": null,
   "metadata": {
    "collapsed": true
   },
   "outputs": [],
   "source": []
  }
 ],
 "metadata": {
  "kernelspec": {
   "display_name": "Python 2",
   "language": "python",
   "name": "python2"
  },
  "language_info": {
   "codemirror_mode": {
    "name": "ipython",
    "version": 2
   },
   "file_extension": ".py",
   "mimetype": "text/x-python",
   "name": "python",
   "nbconvert_exporter": "python",
   "pygments_lexer": "ipython2",
   "version": "2.7.12"
  }
 },
 "nbformat": 4,
 "nbformat_minor": 0
}
