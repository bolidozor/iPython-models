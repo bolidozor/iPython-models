{
 "cells": [
  {
   "cell_type": "markdown",
   "metadata": {},
   "source": [
    "#### Návrh RF filtru \n",
    "\n",
    "Pásmová propust s následujícími požadovanými parametry: \n",
    "\n",
    "##### Aproximace \t\n",
    "Značení parametrů stejné jako v programu Syntfil https://asinus.feld.cvut.cz/syntfil\n",
    "\n",
    "Pásmová propust, Chebyshev, 3. řád\n",
    "f-s = 142.551MHz, f-p = 143.025MHz, f_p = 143.075MHz, fs = 143.551MHz, fm = 143.05MHz, Δfp = 50kHz, Δfs = 1MHz, ap = 3dB, as = 60dB\n",
    "\n",
    "##### LC realizace\n",
    "zakončení: symetrické, R = 50Ω, směr: zepředu, struktura: π \n",
    "\n",
    "Pro optimalizaci se používá nástroj https://github.com/ahkab/ahkab\n"
   ]
  },
  {
   "cell_type": "code",
   "execution_count": null,
   "metadata": {
    "collapsed": true
   },
   "outputs": [],
   "source": []
  }
 ],
 "metadata": {
  "kernelspec": {
   "display_name": "Python 2",
   "language": "python",
   "name": "python2"
  },
  "language_info": {
   "codemirror_mode": {
    "name": "ipython",
    "version": 2
   },
   "file_extension": ".py",
   "mimetype": "text/x-python",
   "name": "python",
   "nbconvert_exporter": "python",
   "pygments_lexer": "ipython2",
   "version": "2.7.12"
  }
 },
 "nbformat": 4,
 "nbformat_minor": 0
}
