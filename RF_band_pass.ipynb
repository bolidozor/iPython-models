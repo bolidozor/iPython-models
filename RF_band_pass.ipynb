{
 "cells": [
  {
   "cell_type": "markdown",
   "metadata": {},
   "source": [
    "#### Návrh RF filtru pro vstupní obvody přijímače rádiových signálů meteorů\n",
    "\n",
    "Rádiové signály odražené od stop meteorů jsou frekvenčně modulovány pouze Dopplerovým posuvem proto mají šířku pásma pouze někoklik desítek kHz. Původní vysílaný signál je CW vysílání na frekvenci 143.05 kHz z pohledu RF techniky proto jde o filtr s velmi malou relativní šířkou pásma. \n",
    "\n",
    "Dalším cílem návrhu je, aby filtr byl poměrně jednoduše syntetizovatelný i pro jiné frekvence základního signálu tj. jiný vysílač. Nelze proto zvolit například krystalový nebo dutinový rezonátor, protože kusová výroba takových filtrů pro různé potřebné frekvence by byla velmi nákladná. Konstruční řešení proto musí být realizovatelné ze standardní řady L a C součástek. \n",
    "\n",
    "##### Zadání v podobě tolerančního pásma filtru \t\n",
    "Značení parametrů stejné jako v programu Syntfil https://asinus.feld.cvut.cz/syntfil\n",
    "\n",
    "Pásmová propust, Chebyshev, 3. řád\n",
    "f-s = 142.551MHz, f-p = 143.025MHz, f_p = 143.075MHz, fs = 143.551MHz, fm = 143.05MHz, Δfp = 50kHz, Δfs = 1MHz, ap = 3dB, as = 60dB\n",
    "\n",
    "##### Kanonická LC realizace\n",
    "zakončení: symetrické, R = 50Ω, směr: zepředu, struktura: π\n",
    "\n",
    "Výsledkem běžně používaných návrhových nástrojů je typicky následující struktura, která ale není realizovatelná z reálných součástek. \n",
    "\n",
    "\n",
    "![title](Filter_img/GRAVes_syntfil.png)\n",
    "\n",
    "Takto navržená struktura je kanonickou strukturou, která začíná být prakticky realizovatelná od situace kdy šířka pásma filtru je alespoň polovina pracovní frekvence. Ale i tak jsou potřebné hodnoty součástek těžko zkontruovatelné, protože nutné rozměry vytvářejí potíže s vlastní rezonancí. Existuje ještě několik analyticky správných, ale technicky těžko realizovatelných struktur jako eliptické filtry, Nortonovy transformované filtry atd.\n",
    "\n",
    "Pro náš případ pásmové propusti lze však využít požadavku na velmi malou šířku pásma, která umožňuje uvažovat o aproximacích platných pro danou frekvenci. Pro změnu impedance mezi jednotlivými bloky filtru tak lze například použít LC články místo trasformátorů z vázaných indukčostí. \n",
    "\n",
    "##### Přímo vázaná LC struktura\n",
    "\n",
    "Filtry tohoto typu se obecně skládají z přizpůsobovacích bloků, rezonátorů. Tato obvodová realizace filtru může využívat obrovské množství různých topologií rezonátorů a přizpůsobovacích obvodů, které lze vzájemně kombinovat. Na následujícím schématu je jedna ze základních struktur.\n",
    "\n",
    "![Direct coupled Filter](Filter_img/Direct_coupled_RFfilter.png)\n",
    "\n",
    "Iterativně \n"
   ]
  },
  {
   "cell_type": "code",
   "execution_count": null,
   "metadata": {
    "collapsed": true
   },
   "outputs": [],
   "source": []
  },
  {
   "cell_type": "code",
   "execution_count": 15,
   "metadata": {
    "collapsed": false
   },
   "outputs": [],
   "source": [
    "#  https://github.com/ahkab/ahkab\n",
    "from ahkab import new_ac, run\n",
    "from ahkab.circuit import Circuit\n",
    "from ahkab.plotting import plot_results # calls matplotlib for you\n",
    "import numpy as np\n",
    "\n",
    "# Define the circuit\n",
    "cir = Circuit('Butterworth 1kHz band-pass filter')\n",
    "cir.add_vsource('V1', 'n1', cir.gnd, dc_value=0., ac_value=1.)\n",
    "cir.add_resistor('R1', 'n1', 'n2', 50.)\n",
    "cir.add_inductor('L1', 'n2', 'n3', 0.245894)\n",
    "cir.add_capacitor('C1', 'n3', 'n4', 1.03013e-07)\n",
    "cir.add_inductor('L2', 'n4', cir.gnd, 9.83652e-05)\n",
    "cir.add_capacitor('C2', 'n4', cir.gnd, 0.000257513)\n",
    "cir.add_inductor('L3', 'n4', 'n5', 0.795775)\n",
    "cir.add_capacitor('C3', 'n5', 'n6', 3.1831e-08)\n",
    "cir.add_inductor('L4', 'n6', cir.gnd, 9.83652e-05)\n",
    "cir.add_capacitor('C4', 'n6', cir.gnd, 0.000257513)\n",
    "cir.add_capacitor('C5', 'n7', 'n8', 1.03013e-07)\n",
    "cir.add_inductor('L5', 'n6', 'n7', 0.245894)\n",
    "cir.add_resistor('R2', 'n8', cir.gnd, 50.)\n",
    "\n",
    "# Define the analysis\n",
    "ac1 = new_ac(.97e3, 1.03e3, 1e2, x0=None)\n",
    "\n",
    "# run it\n",
    "res = run(cir, ac1)\n",
    "\n",
    "# plot the results\n",
    "plot_results('5th order 1kHz Butterworth filter', [('|Vn8|',\"\")], res['ac'])"
   ]
  },
  {
   "cell_type": "code",
   "execution_count": 16,
   "metadata": {
    "collapsed": false
   },
   "outputs": [
    {
     "name": "stdout",
     "output_type": "stream",
     "text": [
      "* Butterworth 1kHz band-pass filter\n",
      "V1 n1 0 type=vdc value=0.0 vac=1.0 \n",
      "R1 n1 n2 50\n",
      "L1 n2 n3 0.245894\n",
      "C1 n3 n4 1.03013e-07\n",
      "L2 n4 0 9.83652e-05\n",
      "C2 n4 0 0.000257513\n",
      "L3 n4 n5 0.795775\n",
      "C3 n5 n6 3.1831e-08\n",
      "L4 n6 0 9.83652e-05\n",
      "C4 n6 0 0.000257513\n",
      "C5 n7 n8 1.03013e-07\n",
      "L5 n6 n7 0.245894\n",
      "R2 n8 0 50\n"
     ]
    }
   ],
   "source": [
    "print cir"
   ]
  },
  {
   "cell_type": "code",
   "execution_count": 1,
   "metadata": {
    "collapsed": false
   },
   "outputs": [
    {
     "ename": "ImportError",
     "evalue": "No module named ahkab.plotting",
     "output_type": "error",
     "traceback": [
      "\u001b[1;31m---------------------------------------------------------------------------\u001b[0m",
      "\u001b[1;31mImportError\u001b[0m                               Traceback (most recent call last)",
      "\u001b[1;32m<ipython-input-1-e660567e3f57>\u001b[0m in \u001b[0;36m<module>\u001b[1;34m()\u001b[0m\n\u001b[1;32m----> 1\u001b[1;33m \u001b[1;32mfrom\u001b[0m \u001b[0mahkab\u001b[0m\u001b[1;33m.\u001b[0m\u001b[0mplotting\u001b[0m \u001b[1;32mimport\u001b[0m \u001b[0mshow_plots\u001b[0m\u001b[1;33m\u001b[0m\u001b[0m\n\u001b[0m\u001b[0;32m      2\u001b[0m \u001b[0mshow_plots\u001b[0m\u001b[1;33m(\u001b[0m\u001b[1;33m)\u001b[0m\u001b[1;33m\u001b[0m\u001b[0m\n",
      "\u001b[1;31mImportError\u001b[0m: No module named ahkab.plotting"
     ]
    }
   ],
   "source": [
    "from ahkab.plotting import show_plots\n",
    "show_plots()"
   ]
  },
  {
   "cell_type": "markdown",
   "metadata": {},
   "source": [
    "![Předpokládaná výsledná realizace filtru](Filter_img/BP01B_schematics.png)\n"
   ]
  },
  {
   "cell_type": "markdown",
   "metadata": {},
   "source": [
    "#### Reference \n",
    "\n",
    "http://www.iowahills.com/9RFFiltersPage.html \n",
    "\n"
   ]
  }
 ],
 "metadata": {
  "kernelspec": {
   "display_name": "Python 2",
   "language": "python",
   "name": "python2"
  },
  "language_info": {
   "codemirror_mode": {
    "name": "ipython",
    "version": 2
   },
   "file_extension": ".py",
   "mimetype": "text/x-python",
   "name": "python",
   "nbconvert_exporter": "python",
   "pygments_lexer": "ipython2",
   "version": "2.7.12"
  }
 },
 "nbformat": 4,
 "nbformat_minor": 0
}
