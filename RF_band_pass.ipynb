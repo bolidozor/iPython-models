{
 "cells": [
  {
   "cell_type": "markdown",
   "metadata": {},
   "source": [
    "#### Návrh RF filtru \n",
    "\n",
    "Pásmová propust s následujícími požadovanými parametry: \n",
    "\n",
    "##### Aproximace \t\n",
    "Značení parametrů stejné jako v programu Syntfil https://asinus.feld.cvut.cz/syntfil\n",
    "\n",
    "Pásmová propust, Chebyshev, 3. řád\n",
    "f-s = 142.551MHz, f-p = 143.025MHz, f_p = 143.075MHz, fs = 143.551MHz, fm = 143.05MHz, Δfp = 50kHz, Δfs = 1MHz, ap = 3dB, as = 60dB\n",
    "\n",
    "##### LC realizace\n",
    "zakončení: symetrické, R = 50Ω, směr: zepředu, struktura: π \n",
    "\n",
    "Pro optimalizaci se používá nástroj https://github.com/ahkab/ahkab\n"
   ]
  },
  {
   "cell_type": "code",
   "execution_count": null,
   "metadata": {
    "collapsed": true
   },
   "outputs": [],
   "source": []
  },
  {
   "cell_type": "code",
   "execution_count": 15,
   "metadata": {
    "collapsed": false
   },
   "outputs": [],
   "source": [
    "from ahkab import new_ac, run\n",
    "from ahkab.circuit import Circuit\n",
    "from ahkab.plotting import plot_results # calls matplotlib for you\n",
    "import numpy as np\n",
    "\n",
    "# Define the circuit\n",
    "cir = Circuit('Butterworth 1kHz band-pass filter')\n",
    "cir.add_vsource('V1', 'n1', cir.gnd, dc_value=0., ac_value=1.)\n",
    "cir.add_resistor('R1', 'n1', 'n2', 50.)\n",
    "cir.add_inductor('L1', 'n2', 'n3', 0.245894)\n",
    "cir.add_capacitor('C1', 'n3', 'n4', 1.03013e-07)\n",
    "cir.add_inductor('L2', 'n4', cir.gnd, 9.83652e-05)\n",
    "cir.add_capacitor('C2', 'n4', cir.gnd, 0.000257513)\n",
    "cir.add_inductor('L3', 'n4', 'n5', 0.795775)\n",
    "cir.add_capacitor('C3', 'n5', 'n6', 3.1831e-08)\n",
    "cir.add_inductor('L4', 'n6', cir.gnd, 9.83652e-05)\n",
    "cir.add_capacitor('C4', 'n6', cir.gnd, 0.000257513)\n",
    "cir.add_capacitor('C5', 'n7', 'n8', 1.03013e-07)\n",
    "cir.add_inductor('L5', 'n6', 'n7', 0.245894)\n",
    "cir.add_resistor('R2', 'n8', cir.gnd, 50.)\n",
    "\n",
    "# Define the analysis\n",
    "ac1 = new_ac(.97e3, 1.03e3, 1e2, x0=None)\n",
    "\n",
    "# run it\n",
    "res = run(cir, ac1)\n",
    "\n",
    "# plot the results\n",
    "plot_results('5th order 1kHz Butterworth filter', [('|Vn8|',\"\")], res['ac'])"
   ]
  },
  {
   "cell_type": "code",
   "execution_count": 16,
   "metadata": {
    "collapsed": false
   },
   "outputs": [
    {
     "name": "stdout",
     "output_type": "stream",
     "text": [
      "* Butterworth 1kHz band-pass filter\n",
      "V1 n1 0 type=vdc value=0.0 vac=1.0 \n",
      "R1 n1 n2 50\n",
      "L1 n2 n3 0.245894\n",
      "C1 n3 n4 1.03013e-07\n",
      "L2 n4 0 9.83652e-05\n",
      "C2 n4 0 0.000257513\n",
      "L3 n4 n5 0.795775\n",
      "C3 n5 n6 3.1831e-08\n",
      "L4 n6 0 9.83652e-05\n",
      "C4 n6 0 0.000257513\n",
      "C5 n7 n8 1.03013e-07\n",
      "L5 n6 n7 0.245894\n",
      "R2 n8 0 50\n"
     ]
    }
   ],
   "source": [
    "print cir"
   ]
  },
  {
   "cell_type": "code",
   "execution_count": null,
   "metadata": {
    "collapsed": false
   },
   "outputs": [],
   "source": [
    "from ahkab.plotting import show_plots\n",
    "show_plots()"
   ]
  },
  {
   "cell_type": "markdown",
   "metadata": {},
   "source": [
    "#### Reference \n",
    "\n",
    "http://www.iowahills.com/9RFFiltersPage.html \n",
    "\n"
   ]
  }
 ],
 "metadata": {
  "kernelspec": {
   "display_name": "Python 2",
   "language": "python",
   "name": "python2"
  },
  "language_info": {
   "codemirror_mode": {
    "name": "ipython",
    "version": 2
   },
   "file_extension": ".py",
   "mimetype": "text/x-python",
   "name": "python",
   "nbconvert_exporter": "python",
   "pygments_lexer": "ipython2",
   "version": "2.7.12"
  }
 },
 "nbformat": 4,
 "nbformat_minor": 0
}
